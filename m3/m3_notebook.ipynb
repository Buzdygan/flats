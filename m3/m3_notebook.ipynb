{
 "cells": [
  {
   "cell_type": "code",
   "execution_count": 7,
   "id": "running-relations",
   "metadata": {},
   "outputs": [],
   "source": [
    "import requests\n",
    "import json\n",
    "import os\n",
    "import re\n",
    "import hashlib\n",
    "import numpy as np\n",
    "from datetime import datetime\n",
    "\n",
    "import django\n",
    "from PIL import Image\n",
    "from io import BytesIO\n",
    "from bs4 import BeautifulSoup\n",
    "\n",
    "from flat_crawler.models import FlatPost, Flat, Source\n",
    "from flat_crawler.constants import SELECTED_DISTRICTS\n",
    "\n",
    "\n",
    "GUMTREE_URL = \"https://www.gumtree.pl/s-mieszkania-i-domy-sprzedam-i-kupie/srodmiescie/v1c9073l3200017p1?pr=450000,1000000\""
   ]
  },
  {
   "cell_type": "code",
   "execution_count": null,
   "id": "fitting-module",
   "metadata": {},
   "outputs": [],
   "source": [
    "os.environ.setdefault('DJANGO_SETTINGS_MODULE', 'rest.settings')\n",
    "os.environ[\"DJANGO_ALLOW_ASYNC_UNSAFE\"] = \"true\"\n",
    "django.setup()"
   ]
  },
  {
   "cell_type": "code",
   "execution_count": 20,
   "id": "foreign-comparison",
   "metadata": {},
   "outputs": [],
   "source": [
    "flat_ids = FlatPost.objects.filter(district__in=SELECTED_DISTRICTS, flat__isnull=False).values_list('flat__id').distinct()"
   ]
  },
  {
   "cell_type": "code",
   "execution_count": 26,
   "id": "opening-stomach",
   "metadata": {},
   "outputs": [
    {
     "data": {
      "text/plain": [
       "258"
      ]
     },
     "execution_count": 26,
     "metadata": {},
     "output_type": "execute_result"
    }
   ],
   "source": [
    "Flat.objects.filter(id__in=flat_ids).filter(min_price__gt=500000).count()"
   ]
  },
  {
   "cell_type": "code",
   "execution_count": null,
   "id": "extreme-messaging",
   "metadata": {},
   "outputs": [],
   "source": [
    "flat_ids = Fla.objects.filter(published=True).values_list('make_id', flat=True)\n"
   ]
  },
  {
   "cell_type": "code",
   "execution_count": 18,
   "id": "floral-mixer",
   "metadata": {},
   "outputs": [
    {
     "data": {
      "text/plain": [
       "{'flat': UUID('01d6f58f-07be-4981-9348-4c53b93a3168')}"
      ]
     },
     "execution_count": 18,
     "metadata": {},
     "output_type": "execute_result"
    }
   ],
   "source": [
    "fq.all()[0]"
   ]
  },
  {
   "cell_type": "markdown",
   "id": "exciting-manhattan",
   "metadata": {},
   "source": [
    "### Image comparison"
   ]
  },
  {
   "cell_type": "code",
   "execution_count": 1,
   "id": "emotional-bride",
   "metadata": {},
   "outputs": [],
   "source": [
    "img_url_x = 'https://ireland.apollo.olxcdn.com/v1/files/eyJmbiI6InY3eDRpb2txOTh5djEtQVBMIiwidyI6W3siZm4iOiJqMWozbzEzbTZiZ24xLUFQTCIsInMiOiIxNCIsInAiOiIxMCwtMTAiLCJhIjoiMCJ9XX0.eVJ1XzpPLIOIq8rr_WyNvAmGWFp7tuXslKJPirxlhq8/image;s=1280x1024;q=80'\n",
    "img_url_a = 'https://i.ebayimg.com/00/s/NjgzWDEwMjQ=/z/3H8AAOSwFu1gDFCC/$_20.JPG'\n",
    "img_url_b = 'https://ireland.apollo.olxcdn.com/v1/files/eyJmbiI6ImZ6NjVxeThpeWc0MjEtQVBMIiwidyI6W3siZm4iOiJqMWozbzEzbTZiZ24xLUFQTCIsInMiOiIxNCIsInAiOiIxMCwtMTAiLCJhIjoiMCJ9XX0.qD3I6cCpP0jAL3Aq96dpMZM_CAsuYmgSBwm6U9Az4pE/image;s=1280x1024;q=80'"
   ]
  },
  {
   "cell_type": "code",
   "execution_count": 5,
   "id": "perfect-fortune",
   "metadata": {},
   "outputs": [],
   "source": [
    "im_a = Image.open(BytesIO(requests.get(img_url_a).content))\n",
    "im_b = Image.open(BytesIO(requests.get(img_url_b).content))\n",
    "im_x = Image.open(BytesIO(requests.get(img_url_x).content))"
   ]
  },
  {
   "cell_type": "code",
   "execution_count": 11,
   "id": "golden-craps",
   "metadata": {},
   "outputs": [],
   "source": [
    "S = (4, 2)"
   ]
  },
  {
   "cell_type": "code",
   "execution_count": 13,
   "id": "sticky-fishing",
   "metadata": {},
   "outputs": [],
   "source": [
    "adata = np.array(im_a.resize(S).getdata())\n",
    "bdata = np.array(im_b.resize(S).getdata())\n",
    "xdata = np.array(im_x.resize(S).getdata())"
   ]
  },
  {
   "cell_type": "code",
   "execution_count": 17,
   "id": "minus-cross",
   "metadata": {},
   "outputs": [
    {
     "data": {
      "text/plain": [
       "2.125"
      ]
     },
     "execution_count": 17,
     "metadata": {},
     "output_type": "execute_result"
    }
   ],
   "source": [
    "np.average(np.abs(adata - bdata))"
   ]
  },
  {
   "cell_type": "code",
   "execution_count": 8,
   "id": "velvet-subcommittee",
   "metadata": {},
   "outputs": [],
   "source": [
    "img_bytes = BytesIO()\n",
    "im_a.save(img_bytes, format=\"PNG\")"
   ]
  }
 ],
 "metadata": {
  "kernelspec": {
   "display_name": "Django Shell-Plus",
   "language": "python",
   "name": "django_extensions"
  },
  "language_info": {
   "codemirror_mode": {
    "name": "ipython",
    "version": 3
   },
   "file_extension": ".py",
   "mimetype": "text/x-python",
   "name": "python",
   "nbconvert_exporter": "python",
   "pygments_lexer": "ipython3",
   "version": "3.7.7"
  }
 },
 "nbformat": 4,
 "nbformat_minor": 5
}
